{
 "cells": [
  {
   "cell_type": "code",
   "execution_count": 70,
   "metadata": {},
   "outputs": [
    {
     "name": "stdout",
     "output_type": "stream",
     "text": [
      "Device: cpu\n"
     ]
    },
    {
     "name": "stderr",
     "output_type": "stream",
     "text": [
      "Some weights of Speech2TextForConditionalGeneration were not initialized from the model checkpoint at facebook/s2t-small-librispeech-asr and are newly initialized: ['model.decoder.embed_positions.weights', 'model.encoder.embed_positions.weights']\n",
      "You should probably TRAIN this model on a down-stream task to be able to use it for predictions and inference.\n"
     ]
    },
    {
     "name": "stdout",
     "output_type": "stream",
     "text": [
      "Speech2TextForConditionalGeneration(\n",
      "  (model): Speech2TextModel(\n",
      "    (encoder): Speech2TextEncoder(\n",
      "      (conv): Conv1dSubsampler(\n",
      "        (conv_layers): ModuleList(\n",
      "          (0): Conv1d(80, 1024, kernel_size=(5,), stride=(2,), padding=(2,))\n",
      "          (1): Conv1d(512, 512, kernel_size=(5,), stride=(2,), padding=(2,))\n",
      "        )\n",
      "      )\n",
      "      (embed_positions): Speech2TextSinusoidalPositionalEmbedding()\n",
      "      (layers): ModuleList(\n",
      "        (0-11): 12 x Speech2TextEncoderLayer(\n",
      "          (self_attn): Speech2TextAttention(\n",
      "            (k_proj): Linear(in_features=256, out_features=256, bias=True)\n",
      "            (v_proj): Linear(in_features=256, out_features=256, bias=True)\n",
      "            (q_proj): Linear(in_features=256, out_features=256, bias=True)\n",
      "            (out_proj): Linear(in_features=256, out_features=256, bias=True)\n",
      "          )\n",
      "          (self_attn_layer_norm): LayerNorm((256,), eps=1e-05, elementwise_affine=True)\n",
      "          (activation_fn): ReLU()\n",
      "          (fc1): Linear(in_features=256, out_features=2048, bias=True)\n",
      "          (fc2): Linear(in_features=2048, out_features=256, bias=True)\n",
      "          (final_layer_norm): LayerNorm((256,), eps=1e-05, elementwise_affine=True)\n",
      "        )\n",
      "      )\n",
      "      (layer_norm): LayerNorm((256,), eps=1e-05, elementwise_affine=True)\n",
      "    )\n",
      "    (decoder): Speech2TextDecoder(\n",
      "      (embed_tokens): Embedding(10000, 256, padding_idx=1)\n",
      "      (embed_positions): Speech2TextSinusoidalPositionalEmbedding()\n",
      "      (layers): ModuleList(\n",
      "        (0-5): 6 x Speech2TextDecoderLayer(\n",
      "          (self_attn): Speech2TextAttention(\n",
      "            (k_proj): Linear(in_features=256, out_features=256, bias=True)\n",
      "            (v_proj): Linear(in_features=256, out_features=256, bias=True)\n",
      "            (q_proj): Linear(in_features=256, out_features=256, bias=True)\n",
      "            (out_proj): Linear(in_features=256, out_features=256, bias=True)\n",
      "          )\n",
      "          (activation_fn): ReLU()\n",
      "          (self_attn_layer_norm): LayerNorm((256,), eps=1e-05, elementwise_affine=True)\n",
      "          (encoder_attn): Speech2TextAttention(\n",
      "            (k_proj): Linear(in_features=256, out_features=256, bias=True)\n",
      "            (v_proj): Linear(in_features=256, out_features=256, bias=True)\n",
      "            (q_proj): Linear(in_features=256, out_features=256, bias=True)\n",
      "            (out_proj): Linear(in_features=256, out_features=256, bias=True)\n",
      "          )\n",
      "          (encoder_attn_layer_norm): LayerNorm((256,), eps=1e-05, elementwise_affine=True)\n",
      "          (fc1): Linear(in_features=256, out_features=2048, bias=True)\n",
      "          (fc2): Linear(in_features=2048, out_features=256, bias=True)\n",
      "          (final_layer_norm): LayerNorm((256,), eps=1e-05, elementwise_affine=True)\n",
      "        )\n",
      "      )\n",
      "      (layer_norm): LayerNorm((256,), eps=1e-05, elementwise_affine=True)\n",
      "    )\n",
      "  )\n",
      "  (lm_head): Linear(in_features=256, out_features=10000, bias=False)\n",
      ")\n",
      "Speech2TextProcessor:\n",
      "- feature_extractor: Speech2TextFeatureExtractor {\n",
      "  \"do_ceptral_normalize\": true,\n",
      "  \"feature_extractor_type\": \"Speech2TextFeatureExtractor\",\n",
      "  \"feature_size\": 80,\n",
      "  \"normalize_means\": true,\n",
      "  \"normalize_vars\": true,\n",
      "  \"num_mel_bins\": 80,\n",
      "  \"padding_side\": \"right\",\n",
      "  \"padding_value\": 0.0,\n",
      "  \"return_attention_mask\": true,\n",
      "  \"sampling_rate\": 16000\n",
      "}\n",
      "\n",
      "- tokenizer: Speech2TextTokenizer(name_or_path='facebook/s2t-small-librispeech-asr', vocab_size=10000, model_max_length=1000000000000000019884624838656, is_fast=False, padding_side='right', truncation_side='right', special_tokens={'bos_token': '<s>', 'eos_token': '</s>', 'unk_token': '<unk>', 'pad_token': '<pad>'}, clean_up_tokenization_spaces=True),  added_tokens_decoder={\n",
      "\t0: AddedToken(\"<s>\", rstrip=False, lstrip=False, single_word=False, normalized=False, special=True),\n",
      "\t1: AddedToken(\"<pad>\", rstrip=False, lstrip=False, single_word=False, normalized=False, special=True),\n",
      "\t2: AddedToken(\"</s>\", rstrip=False, lstrip=False, single_word=False, normalized=False, special=True),\n",
      "\t3: AddedToken(\"<unk>\", rstrip=False, lstrip=False, single_word=False, normalized=False, special=True),\n",
      "}\n",
      "\n",
      "{\n",
      "  \"processor_class\": \"Speech2TextProcessor\"\n",
      "}\n",
      "\n",
      "Transcription: ['</s> a man said to the universe sir i exist</s>']\n"
     ]
    }
   ],
   "source": [
    "import torch\n",
    "from transformers import Speech2TextProcessor, Speech2TextForConditionalGeneration\n",
    "from datasets import load_dataset\n",
    "import soundfile as sf\n",
    "\n",
    "# Use CPU to avoid MPS issues\n",
    "device = torch.device(\"cpu\")\n",
    "print(\"Device:\", device)\n",
    "\n",
    "model = Speech2TextForConditionalGeneration.from_pretrained(\"facebook/s2t-small-librispeech-asr\").to(device, dtype=torch.float32)\n",
    "print(model)\n",
    "\n",
    "processor = Speech2TextProcessor.from_pretrained(\"facebook/s2t-small-librispeech-asr\")\n",
    "print(processor)\n",
    "\n",
    "def map_to_array(batch):\n",
    "    speech, _ = sf.read(batch[\"file\"])\n",
    "    batch[\"speech\"] = speech\n",
    "    return batch\n",
    "\n",
    "ds = load_dataset(\"patrickvonplaten/librispeech_asr_dummy\", \"clean\", split=\"validation\")\n",
    "ds = ds.map(map_to_array)\n",
    "\n",
    "inputs = processor(ds[\"speech\"][0], sampling_rate=16_000, return_tensors=\"pt\").to(device, dtype=torch.float32)\n",
    "generated_ids = model.generate(input_features=inputs[\"input_features\"],\n",
    "                               attention_mask=inputs[\"attention_mask\"])\n",
    "\n",
    "transcription = processor.batch_decode(generated_ids)\n",
    "print(\"Transcription:\", transcription)"
   ]
  },
  {
   "cell_type": "code",
   "execution_count": 71,
   "metadata": {},
   "outputs": [
    {
     "name": "stdout",
     "output_type": "stream",
     "text": [
      "Transcription: [\"hello my name is hafiz hassan mustapha i am twenty four year old i'm a mechanical engineer and this audio is for testing purpose\"]\n"
     ]
    }
   ],
   "source": [
    "# Function to load and preprocess the audio file\n",
    "def transcribe_audio(file_path):\n",
    "    # Load the audio file\n",
    "    speech, sample_rate = sf.read(file_path)\n",
    "    \n",
    "    # Ensure the sampling rate is correct (16kHz)\n",
    "    if sample_rate != 24000:\n",
    "        raise ValueError(f\"Expected sampling rate of 16000, but got {sample_rate}\")\n",
    "\n",
    "    # Process the audio file\n",
    "    inputs = processor(speech, sampling_rate=16000, return_tensors=\"pt\").to(device)\n",
    "\n",
    "    # Generate transcription\n",
    "    generated_ids = model.generate(input_features=inputs[\"input_features\"],\n",
    "                                   attention_mask=inputs[\"attention_mask\"])\n",
    "\n",
    "    # Decode the generated IDs to get the transcription\n",
    "    transcription = processor.batch_decode(generated_ids, skip_special_tokens=True)\n",
    "    \n",
    "    return transcription\n",
    "\n",
    "# Path to your audio file\n",
    "audio_file = \"Audios/output.wav\"\n",
    "\n",
    "# Transcribe the audio\n",
    "transcription = transcribe_audio(audio_file)\n",
    "print(\"Transcription:\", transcription)"
   ]
  },
  {
   "cell_type": "code",
   "execution_count": null,
   "metadata": {},
   "outputs": [],
   "source": [
    "from gtts import gTTS\n",
    "import os\n",
    "\n",
    "# Text to convert\n",
    "text = \"Hello, My name is Hafiz Hassan Mustafa. I'm 24 year old. I'm a Mechanical Engineer. And this audio is for testing purpose.\"\n",
    "\n",
    "# Language\n",
    "language = 'en'\n",
    "\n",
    "# Create gTTS object\n",
    "audio = gTTS(text=text, lang=language, slow=False, tld=\"com.au\")\n",
    "\n",
    "# Save to WAV file\n",
    "audio.save(\"Audios/output.wav\")"
   ]
  },
  {
   "cell_type": "code",
   "execution_count": null,
   "metadata": {},
   "outputs": [],
   "source": []
  },
  {
   "cell_type": "code",
   "execution_count": null,
   "metadata": {},
   "outputs": [],
   "source": []
  }
 ],
 "metadata": {
  "kernelspec": {
   "display_name": "env",
   "language": "python",
   "name": "python3"
  },
  "language_info": {
   "codemirror_mode": {
    "name": "ipython",
    "version": 3
   },
   "file_extension": ".py",
   "mimetype": "text/x-python",
   "name": "python",
   "nbconvert_exporter": "python",
   "pygments_lexer": "ipython3",
   "version": "3.10.0"
  }
 },
 "nbformat": 4,
 "nbformat_minor": 2
}
