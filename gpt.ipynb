{
 "cells": [
  {
   "cell_type": "code",
   "execution_count": 2,
   "metadata": {},
   "outputs": [],
   "source": [
    "import os\n",
    "os.makedirs(\"Youtube Videos\", exist_ok=True)"
   ]
  },
  {
   "cell_type": "code",
   "execution_count": 44,
   "metadata": {},
   "outputs": [],
   "source": [
    "import yt_dlp\n",
    "video_path = 'Youtube Videos/speech.mp4'\n",
    "\n",
    "def download_youtube_video(video_url, output_path=video_path):\n",
    "    ydl_opts = {'format': 'bestaudio/best', 'outtmpl': output_path}\n",
    "    with yt_dlp.YoutubeDL(ydl_opts) as ydl:\n",
    "        ydl.download([video_url])\n",
    "\n",
    "    return ydl_opts"
   ]
  },
  {
   "cell_type": "code",
   "execution_count": 45,
   "metadata": {},
   "outputs": [
    {
     "name": "stdout",
     "output_type": "stream",
     "text": [
      "[youtube] Extracting URL: https://www.youtube.com/watch?v=1aA1WGON49E\n",
      "[youtube] 1aA1WGON49E: Downloading webpage\n",
      "[youtube] 1aA1WGON49E: Downloading ios player API JSON\n",
      "[youtube] 1aA1WGON49E: Downloading web creator player API JSON\n",
      "[youtube] 1aA1WGON49E: Downloading m3u8 information\n",
      "[info] 1aA1WGON49E: Downloading 1 format(s): 251\n",
      "[download] Destination: Youtube Videos/speech.mp4\n",
      "[download] 100% of    1.02MiB in 00:00:00 at 1.02MiB/s   \n",
      "{'format': 'bestaudio/best', 'outtmpl': {'default': 'Youtube Videos/speech.mp4', 'chapter': '%(title)s - %(section_number)03d %(section_title)s [%(id)s].%(ext)s'}, 'compat_opts': set(), 'http_headers': {'User-Agent': 'Mozilla/5.0 (Windows NT 10.0; Win64; x64) AppleWebKit/537.36 (KHTML, like Gecko) Chrome/92.0.4515.107 Safari/537.36', 'Accept': 'text/html,application/xhtml+xml,application/xml;q=0.9,*/*;q=0.8', 'Accept-Language': 'en-us,en;q=0.5', 'Sec-Fetch-Mode': 'navigate'}, 'forceprint': {}, 'print_to_file': {}}\n"
     ]
    }
   ],
   "source": [
    "output = download_youtube_video(\"https://www.youtube.com/watch?v=1aA1WGON49E\")\n",
    "print(output)"
   ]
  },
  {
   "cell_type": "code",
   "execution_count": 47,
   "metadata": {},
   "outputs": [
    {
     "name": "stdout",
     "output_type": "stream",
     "text": [
      "ffmpeg version 7.0.2 Copyright (c) 2000-2024 the FFmpeg developers\n",
      "  built with Apple clang version 15.0.0 (clang-1500.3.9.4)\n",
      "  configuration: --prefix=/usr/local/Cellar/ffmpeg/7.0.2 --enable-shared --enable-pthreads --enable-version3 --cc=clang --host-cflags= --host-ldflags='-Wl,-ld_classic' --enable-ffplay --enable-gnutls --enable-gpl --enable-libaom --enable-libaribb24 --enable-libbluray --enable-libdav1d --enable-libharfbuzz --enable-libjxl --enable-libmp3lame --enable-libopus --enable-librav1e --enable-librist --enable-librubberband --enable-libsnappy --enable-libsrt --enable-libssh --enable-libsvtav1 --enable-libtesseract --enable-libtheora --enable-libvidstab --enable-libvmaf --enable-libvorbis --enable-libvpx --enable-libwebp --enable-libx264 --enable-libx265 --enable-libxml2 --enable-libxvid --enable-lzma --enable-libfontconfig --enable-libfreetype --enable-frei0r --enable-libass --enable-libopencore-amrnb --enable-libopencore-amrwb --enable-libopenjpeg --enable-libspeex --enable-libsoxr --enable-libzmq --enable-libzimg --disable-libjack --disable-indev=jack --enable-videotoolbox --enable-audiotoolbox\n",
      "  libavutil      59.  8.100 / 59.  8.100\n",
      "  libavcodec     61.  3.100 / 61.  3.100\n",
      "  libavformat    61.  1.100 / 61.  1.100\n",
      "  libavdevice    61.  1.100 / 61.  1.100\n",
      "  libavfilter    10.  1.100 / 10.  1.100\n",
      "  libswscale      8.  1.100 /  8.  1.100\n",
      "  libswresample   5.  1.100 /  5.  1.100\n",
      "  libpostproc    58.  1.100 / 58.  1.100\n",
      "Input #0, matroska,webm, from 'Youtube Videos/speech.mp4':\n",
      "  Metadata:\n",
      "    encoder         : google/video-file\n",
      "  Duration: 00:01:20.78, start: -0.007000, bitrate: 105 kb/s\n",
      "  Stream #0:0(eng): Audio: opus, 48000 Hz, stereo, fltp (default)\n",
      "Stream mapping:\n",
      "  Stream #0:0 -> #0:0 (opus (native) -> pcm_s16le (native))\n",
      "Press [q] to stop, [?] for help\n",
      "Output #0, wav, to 'Youtube Videos/speech.wav':\n",
      "  Metadata:\n",
      "    ISFT            : Lavf61.1.100\n",
      "  Stream #0:0(eng): Audio: pcm_s16le ([1][0][0][0] / 0x0001), 48000 Hz, stereo, s16, 1536 kb/s (default)\n",
      "      Metadata:\n",
      "        encoder         : Lavc61.3.100 pcm_s16le\n",
      "\u001b[1;35m[out#0/wav @ 0x7fd599809d80] \u001b[0mvideo:0KiB audio:15142KiB subtitle:0KiB other streams:0KiB global headers:0KiB muxing overhead: 0.000503%\n",
      "size=   15142KiB time=00:01:20.76 bitrate=1535.9kbits/s speed= 421x    \n"
     ]
    }
   ],
   "source": [
    "# ! ffmpeg -i 'Youtube Videos/video.mp4' -c:v libx264 -c:a aac 'Youtube Videos/video_converted.mp4'\n",
    "\n",
    "\n",
    "! ffmpeg -i 'Youtube Videos/speech.mp4' -q:a 0 -map a 'Youtube Videos/speech.wav'"
   ]
  },
  {
   "cell_type": "code",
   "execution_count": 5,
   "metadata": {},
   "outputs": [
    {
     "data": {
      "text/plain": [
       "'Audios/pydub_output.wav'"
      ]
     },
     "execution_count": 5,
     "metadata": {},
     "output_type": "execute_result"
    }
   ],
   "source": [
    "from pydub import AudioSegment\n",
    "\n",
    "def mp4_to_wav(mp4_path):\n",
    "    # Convert MP4 to WAV\n",
    "    sound = AudioSegment.from_file(mp4_path)\n",
    "    wav_path = \"Audios/pydub_output.wav\"\n",
    "    sound.export(wav_path, format=\"wav\")\n",
    "    return wav_path\n",
    "\n",
    "mp4_path = \"Youtube Videos/Recent.mp4\"\n",
    "output = mp4_to_wav(mp4_path)\n",
    "output"
   ]
  },
  {
   "cell_type": "code",
   "execution_count": 3,
   "metadata": {},
   "outputs": [
    {
     "name": "stdout",
     "output_type": "stream",
     "text": [
      "the biggest poison in US is required to people that have dreams and aspirations of things that they always wanted to but it wasn't the right time within half an hour of money I didn't have any experience it's not the right time time experience\n"
     ]
    }
   ],
   "source": [
    "import speech_recognition as sr\n",
    "\n",
    "def transcribe_audio_to_text(audio_path):\n",
    "\n",
    "    # Transcribe audio\n",
    "    recognizer = sr.Recognizer()\n",
    "    with sr.AudioFile(audio_path) as source:\n",
    "        audio = recognizer.record(source)\n",
    "    text = recognizer.recognize_google(audio)\n",
    "    \n",
    "    return text\n",
    "\n",
    "audio_path = 'Audios/pydub_output.wav'\n",
    "output = transcribe_audio_to_text(audio_path)\n",
    "print(output)"
   ]
  },
  {
   "cell_type": "code",
   "execution_count": 51,
   "metadata": {},
   "outputs": [],
   "source": [
    "import soundfile\n",
    "new_audio_path = 'Youtube Videos/speech.wav'\n",
    "data, samplerate = soundfile.read(audio_path)\n",
    "soundfile.write(new_audio_path, data, samplerate, subtype='PCM_16')"
   ]
  },
  {
   "cell_type": "code",
   "execution_count": 52,
   "metadata": {},
   "outputs": [
    {
     "name": "stdout",
     "output_type": "stream",
     "text": [
      "wow what an audience I know you here on Facebook called the last time I was 18 minutes\n"
     ]
    }
   ],
   "source": [
    "transcription = transcribe_video_to_text(audio_path)\n",
    "print(transcription)"
   ]
  },
  {
   "cell_type": "code",
   "execution_count": null,
   "metadata": {},
   "outputs": [],
   "source": []
  },
  {
   "cell_type": "code",
   "execution_count": null,
   "metadata": {},
   "outputs": [],
   "source": []
  }
 ],
 "metadata": {
  "kernelspec": {
   "display_name": "env",
   "language": "python",
   "name": "python3"
  },
  "language_info": {
   "codemirror_mode": {
    "name": "ipython",
    "version": 3
   },
   "file_extension": ".py",
   "mimetype": "text/x-python",
   "name": "python",
   "nbconvert_exporter": "python",
   "pygments_lexer": "ipython3",
   "version": "3.10.0"
  }
 },
 "nbformat": 4,
 "nbformat_minor": 2
}
